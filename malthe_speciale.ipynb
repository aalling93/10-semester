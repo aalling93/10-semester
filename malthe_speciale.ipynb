{
  "nbformat": 4,
  "nbformat_minor": 0,
  "metadata": {
    "colab": {
      "name": "malthe.ipynb",
      "provenance": [],
      "collapsed_sections": [],
      "authorship_tag": "ABX9TyMl2zT49p+eNz2LcZF4XSM6",
      "include_colab_link": true
    },
    "kernelspec": {
      "name": "python3",
      "display_name": "Python 3"
    }
  },
  "cells": [
    {
      "cell_type": "markdown",
      "metadata": {
        "id": "view-in-github",
        "colab_type": "text"
      },
      "source": [
        "<a href=\"https://colab.research.google.com/github/aalling93/10-semester/blob/master/malthe_speciale.ipynb\" target=\"_parent\"><img src=\"https://colab.research.google.com/assets/colab-badge.svg\" alt=\"Open In Colab\"/></a>"
      ]
    },
    {
      "cell_type": "code",
      "metadata": {
        "id": "JWGE8iS4rYKD",
        "colab_type": "code",
        "colab": {}
      },
      "source": [
        "import pandas as pd\n",
        "import re\n",
        "import numpy as np\n",
        "import math"
      ],
      "execution_count": 0,
      "outputs": []
    },
    {
      "cell_type": "markdown",
      "metadata": {
        "id": "njh0F7rZfXHJ",
        "colab_type": "text"
      },
      "source": [
        "Du kan åbne json som en table vha. pandas pakken."
      ]
    },
    {
      "cell_type": "code",
      "metadata": {
        "id": "C71aS4wJfXgB",
        "colab_type": "code",
        "colab": {}
      },
      "source": [
        "df = pd.read_json('830_845_2.json', lines=True)\n",
        "#df = pd.read_json('street_results_99_2.json', lines=True)"
      ],
      "execution_count": 0,
      "outputs": []
    },
    {
      "cell_type": "markdown",
      "metadata": {
        "id": "8CIefPpOfcsf",
        "colab_type": "text"
      },
      "source": [
        "Først skal vi kigge på hvordan den loader tabellen for at vide hvordan vi kan arbejde med den"
      ]
    },
    {
      "cell_type": "code",
      "metadata": {
        "id": "ntePHoEWfcDj",
        "colab_type": "code",
        "colab": {
          "base_uri": "https://localhost:8080/",
          "height": 203
        },
        "outputId": "305e2d51-7ae8-4548-850b-5766da62ac15"
      },
      "source": [
        "df.head()"
      ],
      "execution_count": 201,
      "outputs": [
        {
          "output_type": "execute_result",
          "data": {
            "text/html": [
              "<div>\n",
              "<style scoped>\n",
              "    .dataframe tbody tr th:only-of-type {\n",
              "        vertical-align: middle;\n",
              "    }\n",
              "\n",
              "    .dataframe tbody tr th {\n",
              "        vertical-align: top;\n",
              "    }\n",
              "\n",
              "    .dataframe thead th {\n",
              "        text-align: right;\n",
              "    }\n",
              "</style>\n",
              "<table border=\"1\" class=\"dataframe\">\n",
              "  <thead>\n",
              "    <tr style=\"text-align: right;\">\n",
              "      <th></th>\n",
              "      <th>frame_number</th>\n",
              "      <th>timestamp</th>\n",
              "      <th>objects</th>\n",
              "    </tr>\n",
              "  </thead>\n",
              "  <tbody>\n",
              "    <tr>\n",
              "      <th>0</th>\n",
              "      <td>39860</td>\n",
              "      <td>2020-04-28 05:21:24.129095078</td>\n",
              "      <td>[]</td>\n",
              "    </tr>\n",
              "    <tr>\n",
              "      <th>1</th>\n",
              "      <td>39861</td>\n",
              "      <td>2020-04-28 05:21:24.179130077</td>\n",
              "      <td>[]</td>\n",
              "    </tr>\n",
              "    <tr>\n",
              "      <th>2</th>\n",
              "      <td>39862</td>\n",
              "      <td>2020-04-28 05:21:24.229300976</td>\n",
              "      <td>[]</td>\n",
              "    </tr>\n",
              "    <tr>\n",
              "      <th>3</th>\n",
              "      <td>39863</td>\n",
              "      <td>2020-04-28 05:21:24.278990030</td>\n",
              "      <td>[]</td>\n",
              "    </tr>\n",
              "    <tr>\n",
              "      <th>4</th>\n",
              "      <td>39864</td>\n",
              "      <td>2020-04-28 05:21:24.329212904</td>\n",
              "      <td>[]</td>\n",
              "    </tr>\n",
              "  </tbody>\n",
              "</table>\n",
              "</div>"
            ],
            "text/plain": [
              "   frame_number                     timestamp objects\n",
              "0         39860 2020-04-28 05:21:24.129095078      []\n",
              "1         39861 2020-04-28 05:21:24.179130077      []\n",
              "2         39862 2020-04-28 05:21:24.229300976      []\n",
              "3         39863 2020-04-28 05:21:24.278990030      []\n",
              "4         39864 2020-04-28 05:21:24.329212904      []"
            ]
          },
          "metadata": {
            "tags": []
          },
          "execution_count": 201
        }
      ]
    },
    {
      "cell_type": "markdown",
      "metadata": {
        "id": "y2BKb6iefo3F",
        "colab_type": "text"
      },
      "source": [
        "Så der er 3 celler. En med frame, en med time og et objekt. Så objektet er en hel celle. Først fjerner vi de frame hvor der IKKE er noget i objektet (altså. ingen målinger...)"
      ]
    },
    {
      "cell_type": "code",
      "metadata": {
        "id": "J0TvJP2fG_FF",
        "colab_type": "code",
        "outputId": "d3a14717-ccb3-4e7b-aa72-c702508af947",
        "colab": {
          "base_uri": "https://localhost:8080/",
          "height": 203
        }
      },
      "source": [
        "df.head()\n",
        "df = df[~df.objects.str.len().eq(0)]\n",
        "df.head()"
      ],
      "execution_count": 202,
      "outputs": [
        {
          "output_type": "execute_result",
          "data": {
            "text/html": [
              "<div>\n",
              "<style scoped>\n",
              "    .dataframe tbody tr th:only-of-type {\n",
              "        vertical-align: middle;\n",
              "    }\n",
              "\n",
              "    .dataframe tbody tr th {\n",
              "        vertical-align: top;\n",
              "    }\n",
              "\n",
              "    .dataframe thead th {\n",
              "        text-align: right;\n",
              "    }\n",
              "</style>\n",
              "<table border=\"1\" class=\"dataframe\">\n",
              "  <thead>\n",
              "    <tr style=\"text-align: right;\">\n",
              "      <th></th>\n",
              "      <th>frame_number</th>\n",
              "      <th>timestamp</th>\n",
              "      <th>objects</th>\n",
              "    </tr>\n",
              "  </thead>\n",
              "  <tbody>\n",
              "    <tr>\n",
              "      <th>1885</th>\n",
              "      <td>41745</td>\n",
              "      <td>2020-04-28 05:22:58.307158947</td>\n",
              "      <td>[{'id': 0, 'x': -2.196865558624267, 'y': -1.05...</td>\n",
              "    </tr>\n",
              "    <tr>\n",
              "      <th>1886</th>\n",
              "      <td>41746</td>\n",
              "      <td>2020-04-28 05:22:58.371056080</td>\n",
              "      <td>[{'id': 0, 'x': -2.365221738815307, 'y': -1.06...</td>\n",
              "    </tr>\n",
              "    <tr>\n",
              "      <th>1887</th>\n",
              "      <td>41747</td>\n",
              "      <td>2020-04-28 05:22:58.420792103</td>\n",
              "      <td>[{'id': 0, 'x': -2.462085723876953, 'y': -1.00...</td>\n",
              "    </tr>\n",
              "    <tr>\n",
              "      <th>1888</th>\n",
              "      <td>41748</td>\n",
              "      <td>2020-04-28 05:22:58.457218885</td>\n",
              "      <td>[{'id': 0, 'x': -2.382128715515136, 'y': -0.93...</td>\n",
              "    </tr>\n",
              "    <tr>\n",
              "      <th>1889</th>\n",
              "      <td>41749</td>\n",
              "      <td>2020-04-28 05:22:58.520519972</td>\n",
              "      <td>[{'id': 0, 'x': -2.334127902984619, 'y': -0.94...</td>\n",
              "    </tr>\n",
              "  </tbody>\n",
              "</table>\n",
              "</div>"
            ],
            "text/plain": [
              "      frame_number  ...                                            objects\n",
              "1885         41745  ...  [{'id': 0, 'x': -2.196865558624267, 'y': -1.05...\n",
              "1886         41746  ...  [{'id': 0, 'x': -2.365221738815307, 'y': -1.06...\n",
              "1887         41747  ...  [{'id': 0, 'x': -2.462085723876953, 'y': -1.00...\n",
              "1888         41748  ...  [{'id': 0, 'x': -2.382128715515136, 'y': -0.93...\n",
              "1889         41749  ...  [{'id': 0, 'x': -2.334127902984619, 'y': -0.94...\n",
              "\n",
              "[5 rows x 3 columns]"
            ]
          },
          "metadata": {
            "tags": []
          },
          "execution_count": 202
        }
      ]
    },
    {
      "cell_type": "code",
      "metadata": {
        "id": "jMmUebE39UW5",
        "colab_type": "code",
        "colab": {
          "base_uri": "https://localhost:8080/",
          "height": 34
        },
        "outputId": "fc3ab762-db1e-4489-d187-c6cd218c7791"
      },
      "source": [
        ""
      ],
      "execution_count": 211,
      "outputs": [
        {
          "output_type": "execute_result",
          "data": {
            "text/plain": [
              "Timestamp('2020-04-28 05:22:58.307158947')"
            ]
          },
          "metadata": {
            "tags": []
          },
          "execution_count": 211
        }
      ]
    },
    {
      "cell_type": "markdown",
      "metadata": {
        "id": "DHEWftgQf0Jm",
        "colab_type": "text"
      },
      "source": [
        "Nu er der kun frame hvor der er målinger. Lad os se objekterne"
      ]
    },
    {
      "cell_type": "markdown",
      "metadata": {
        "id": "GTeknHm6f0Rb",
        "colab_type": "text"
      },
      "source": [
        "vi kan pille objektet fra hinanden:\n"
      ]
    },
    {
      "cell_type": "code",
      "metadata": {
        "id": "K22X7R6ff-EV",
        "colab_type": "code",
        "colab": {
          "base_uri": "https://localhost:8080/",
          "height": 154
        },
        "outputId": "cce4d28d-c91f-49f7-fae7-76f665df9e25"
      },
      "source": [
        "print('\\n',list(enumerate(df['objects']))[1])\n",
        "print('\\n',list(enumerate(df['objects']))[0][1])\n",
        "print('\\n',list(enumerate(df['objects']))[0][1][0])\n",
        "print('\\n',list(enumerate(df['objects']))[0][1][0].get('x'))"
      ],
      "execution_count": 203,
      "outputs": [
        {
          "output_type": "stream",
          "text": [
            "\n",
            " (1, [{'id': 0, 'x': -2.365221738815307, 'y': -1.064175605773925, 'size': 142, 'bounding_box': []}])\n",
            "\n",
            " [{'id': 0, 'x': -2.196865558624267, 'y': -1.050206303596496, 'size': 89, 'bounding_box': []}]\n",
            "\n",
            " {'id': 0, 'x': -2.196865558624267, 'y': -1.050206303596496, 'size': 89, 'bounding_box': []}\n",
            "\n",
            " -2.196865558624267\n"
          ],
          "name": "stdout"
        }
      ]
    },
    {
      "cell_type": "markdown",
      "metadata": {
        "id": "TK6nHLvZhaln",
        "colab_type": "text"
      },
      "source": [
        "Vi kan finde hvor mange timeframes der er"
      ]
    },
    {
      "cell_type": "code",
      "metadata": {
        "id": "g2m-JLySf-Gu",
        "colab_type": "code",
        "colab": {
          "base_uri": "https://localhost:8080/",
          "height": 34
        },
        "outputId": "099b796f-ca8d-496d-a8fe-4981e40639b5"
      },
      "source": [
        "len((list(enumerate(df['objects']))))"
      ],
      "execution_count": 204,
      "outputs": [
        {
          "output_type": "execute_result",
          "data": {
            "text/plain": [
              "448"
            ]
          },
          "metadata": {
            "tags": []
          },
          "execution_count": 204
        }
      ]
    },
    {
      "cell_type": "markdown",
      "metadata": {
        "id": "e1dFFrkWhf46",
        "colab_type": "text"
      },
      "source": [
        "I hver timeframe er der X antal objekter der laver noget. Det kan du finde.  Så i frame 3 er der 2 obj"
      ]
    },
    {
      "cell_type": "code",
      "metadata": {
        "id": "x1Evbb2bf-I-",
        "colab_type": "code",
        "colab": {
          "base_uri": "https://localhost:8080/",
          "height": 120
        },
        "outputId": "15d139ad-90d2-4ccc-cdac-ac363d393271"
      },
      "source": [
        "(list(enumerate(df['objects']))[3])"
      ],
      "execution_count": 205,
      "outputs": [
        {
          "output_type": "execute_result",
          "data": {
            "text/plain": [
              "(3,\n",
              " [{'bounding_box': [],\n",
              "   'id': 0,\n",
              "   'size': 259,\n",
              "   'x': -2.382128715515136,\n",
              "   'y': -0.9323241710662841}])"
            ]
          },
          "metadata": {
            "tags": []
          },
          "execution_count": 205
        }
      ]
    },
    {
      "cell_type": "markdown",
      "metadata": {
        "id": "okaUM27shsf9",
        "colab_type": "text"
      },
      "source": [
        "Og så for objekt 1 i 2. timeframe"
      ]
    },
    {
      "cell_type": "code",
      "metadata": {
        "id": "otDTOIpXf0uB",
        "colab_type": "code",
        "colab": {
          "base_uri": "https://localhost:8080/",
          "height": 86
        },
        "outputId": "5d8226b1-3217-4de7-a32f-d9e612e966a7"
      },
      "source": [
        "print('timeframe er',(list(enumerate(df['objects']))[3][0]))\n",
        "print('\\n objetet er\\n',(list(enumerate(df['objects']))[3][1]))"
      ],
      "execution_count": 206,
      "outputs": [
        {
          "output_type": "stream",
          "text": [
            "timeframe er 3\n",
            "\n",
            " objetet er\n",
            " [{'id': 0, 'x': -2.382128715515136, 'y': -0.9323241710662841, 'size': 259, 'bounding_box': []}]\n"
          ],
          "name": "stdout"
        }
      ]
    },
    {
      "cell_type": "code",
      "metadata": {
        "id": "NO9tTJUg72Nc",
        "colab_type": "code",
        "colab": {}
      },
      "source": [
        ""
      ],
      "execution_count": 0,
      "outputs": []
    },
    {
      "cell_type": "markdown",
      "metadata": {
        "id": "WPdZUUTq2Wdq",
        "colab_type": "text"
      },
      "source": [
        "Nu finder vi først ud af hvor mange id'er der der. Derefter finder vi koordianter for hvert id.."
      ]
    },
    {
      "cell_type": "code",
      "metadata": {
        "id": "Q76CCMYtmlZq",
        "colab_type": "code",
        "colab": {}
      },
      "source": [
        "objs = []\n",
        "for i in range(len(df)):\n",
        "  for j in range(len((list(enumerate(df['objects']))[i][1]))):\n",
        "    ID = (list(enumerate(df['objects']))[i][1][j].get('id'))\n",
        "    if ID not in objs:\n",
        "      objs.append(ID)\n",
        "\n",
        "\n",
        "data_obj = []\n",
        "for i in range(len(objs)):\n",
        "  x = []\n",
        "  y = []\n",
        "  frame = []\n",
        "  for j in range(len(df)):\n",
        "    for k in range(len((list(enumerate(df['objects']))[j][1]))):\n",
        "      ID = (list(enumerate(df['objects']))[j][1][k].get('id'))\n",
        "    if ID==objs[i]:\n",
        "      x.append(list(enumerate(df['objects']))[j][1][k].get('x'))\n",
        "      y.append(list(enumerate(df['objects']))[j][1][k].get('y'))\n",
        "      frame.append(list(enumerate(df['objects']))[j][0])\n",
        "      \n",
        "  data = [i,x,y,frame]\n",
        "  data_obj.append(data)  "
      ],
      "execution_count": 0,
      "outputs": []
    },
    {
      "cell_type": "markdown",
      "metadata": {
        "id": "IfVE0SAP2d4P",
        "colab_type": "text"
      },
      "source": [
        "Ok.. Så har vi fundet x,y for hvert id"
      ]
    },
    {
      "cell_type": "code",
      "metadata": {
        "id": "CqLki32L2xHc",
        "colab_type": "code",
        "colab": {
          "base_uri": "https://localhost:8080/",
          "height": 51
        },
        "outputId": "a6bd73ed-7f8e-441e-a238-8410c2c6da99"
      },
      "source": [
        "print('Antal objekter',len(data_obj[1]))\n",
        "\n",
        "data_obj[4][0]"
      ],
      "execution_count": 229,
      "outputs": [
        {
          "output_type": "stream",
          "text": [
            "Antal objekter 4\n"
          ],
          "name": "stdout"
        },
        {
          "output_type": "execute_result",
          "data": {
            "text/plain": [
              "4"
            ]
          },
          "metadata": {
            "tags": []
          },
          "execution_count": 229
        }
      ]
    },
    {
      "cell_type": "markdown",
      "metadata": {
        "id": "l8_fw6sp27Mk",
        "colab_type": "text"
      },
      "source": [
        "Og hvor hvert objekt har du hvilket frame de er i samt deres xy koordinter.."
      ]
    },
    {
      "cell_type": "code",
      "metadata": {
        "id": "pRjU3gib2xJ_",
        "colab_type": "code",
        "colab": {
          "base_uri": "https://localhost:8080/",
          "height": 295
        },
        "outputId": "0ad25638-f9d1-4622-ffac-736052817737"
      },
      "source": [
        "import matplotlib.pyplot as plt\n",
        "\n",
        "#plot for each object.\n",
        "for i in range(len(objs)):\n",
        "  plt.scatter(data_obj[i][1], data_obj[i][2], s=30, alpha=0.5, label=objs[i])\n",
        "\n",
        "plt.title('fancy plot of their coordinates')\n",
        "plt.xlabel('x')\n",
        "plt.ylabel('y')\n",
        "plt.legend(loc=1)\n",
        "plt.show()"
      ],
      "execution_count": 231,
      "outputs": [
        {
          "output_type": "display_data",
          "data": {
            "image/png": "[encoded data removed]",
            "text/plain": [
              "<Figure size 432x288 with 1 Axes>"
            ]
          },
          "metadata": {
            "tags": [],
            "needs_background": "light"
          }
        }
      ]
    },
    {
      "cell_type": "markdown",
      "metadata": {
        "id": "NFWqTuzt8Fv-",
        "colab_type": "text"
      },
      "source": [
        "Nu kan vi så lave funktioner der gør det nemmere at bruge....\n"
      ]
    },
    {
      "cell_type": "code",
      "metadata": {
        "id": "uwBDbYKU4ojw",
        "colab_type": "code",
        "colab": {}
      },
      "source": [
        "import os.path\n",
        "def get_df(json):\n",
        "  \"\"\"\n",
        "  \"\"\"\n",
        "  allowed_types = ['.json']\n",
        "  assert (os.path.splitext(json)[1] in allowed_types),('\\nERROR: '+os.path.splitext(json)[1]+': Illegal file type.')\n",
        "\n",
        "\n",
        "  df = pd.read_json(json, lines=True)\n",
        "  df = df[~df.objects.str.len().eq(0)]\n",
        "\n",
        "  return df\n",
        "\n",
        "\n",
        "def get_data(df):\n",
        "  \"\"\"\n",
        "\n",
        "  \"\"\"\n",
        "  objs = []\n",
        "  for i in range(len(df)):\n",
        "    for j in range(len((list(enumerate(df['objects']))[i][1]))):\n",
        "      ID = (list(enumerate(df['objects']))[i][1][j].get('id'))\n",
        "      if ID not in objs:\n",
        "        objs.append(ID)\n",
        "\n",
        "\n",
        "  data_obj = []\n",
        "  for i in range(len(objs)):\n",
        "    x = []\n",
        "    y = []\n",
        "    frame = []\n",
        "    time = []\n",
        "    for j in range(len(df)):\n",
        "      for k in range(len((list(enumerate(df['objects']))[j][1]))):\n",
        "        ID = (list(enumerate(df['objects']))[j][1][k].get('id'))\n",
        "      if ID==objs[i]:\n",
        "        x.append(list(enumerate(df['objects']))[j][1][k].get('x'))\n",
        "        y.append(list(enumerate(df['objects']))[j][1][k].get('y'))\n",
        "        frame.append(list(enumerate(df['objects']))[j][0])\n",
        "        time.append(df['timestamp'].iloc[j])\n",
        "\n",
        "    data = [i,x,y,frame,time]\n",
        "    data_obj.append(data)  \n",
        "\n",
        "  return objs,data_obj\n",
        "\n",
        "\n",
        "def plot_data(data_obj,objs):\n",
        "  \"\"\"\n",
        "  \"\"\"\n",
        "  for i in range(len(objs)):\n",
        "    plt.scatter(data_obj[i][1], data_obj[i][2], s=30, alpha=0.5, label=objs[i])\n",
        "\n",
        "  plt.title('fancy plot of their coordinates')\n",
        "  plt.xlabel('x')\n",
        "  plt.ylabel('y')\n",
        "  plt.legend(loc=1)\n",
        "  plt.show()\n",
        "  return None\n",
        "\n",
        "\n",
        "\n",
        "import math\n",
        "def get_distances(x,y,stride=0):\n",
        "  \"\"\"\n",
        "\n",
        "  \"\"\"\n",
        "  assert len(x)==len(y),\"you dumbass, the size of x and y should be the same.\"\n",
        "  assert len(x)>0, 'this ID didnt move..'\n",
        "  distance = []\n",
        "  x = np.array(x)\n",
        "  y = np.array(y)\n",
        "  \n",
        "\n",
        "  if stride ==0:\n",
        "    step=1\n",
        "  else:\n",
        "    step=stride\n",
        "  \n",
        "  for i in range(len(x)):\n",
        "    temp =[]\n",
        "    for j in range(stride,len(x)-stride,step):\n",
        "      d = math.sqrt((x[j+stride]-x[j])**2+(y[j+stride]-[j])**2);\n",
        "      temp.append(d)\n",
        "    distance.append(temp)\n",
        "\n",
        "  return distance\n",
        "\n",
        "\n",
        "import datetime as dt\n",
        "\n",
        "def get_speed(data_obj,ID,stride=0):\n",
        "  \"\"\"\n",
        "    v = distace/time\n",
        "  \"\"\"\n",
        "  x = np.asarray(data_obj[ID][1])\n",
        "  y = np.asarray(data_obj[ID][2])\n",
        "  time = np.asarray(data_obj[ID][4])\n",
        "  if stride ==0:\n",
        "    step=1\n",
        "  if stride>0:\n",
        "    step=stride\n",
        "  \n",
        "  speed = []\n",
        "\n",
        "  for j in range(0,len(x)-step,step):\n",
        "    d = math.sqrt((x[j+step]-x[j])**2+(y[j+step]-y[j])**2);\n",
        "    t = (time[j+step]-time[j]).total_seconds();\n",
        "    if t>0:\n",
        "      v = d/t;\n",
        "    speed.append(v)\n",
        "  return speed"
      ],
      "execution_count": 0,
      "outputs": []
    },
    {
      "cell_type": "markdown",
      "metadata": {
        "id": "GwYc1b5826j2",
        "colab_type": "text"
      },
      "source": [
        "Prøver nu at bruge funktionerne.."
      ]
    },
    {
      "cell_type": "code",
      "metadata": {
        "id": "tu_THjBElGpV",
        "colab_type": "code",
        "colab": {
          "base_uri": "https://localhost:8080/",
          "height": 295
        },
        "outputId": "46da6880-4e50-4493-c7d1-f3163257cab3"
      },
      "source": [
        "#'830_845_2.json'\n",
        "#'street_results_99_2.json'\n",
        "df = get_df('830_845_2.json')\n",
        "objs,data_obj = get_data(df)\n",
        "plot_data(data_obj,objs)\n",
        "#finder distancerne for første objekte (dvs. objekt 0). \n",
        "dist = get_distances(data_obj[0][1],data_obj[0][2]);\n",
        "#finder hastigheden..\n",
        "speed = get_speed(data_obj,1,stride=0)"
      ],
      "execution_count": 374,
      "outputs": [
        {
          "output_type": "display_data",
          "data": {
            "image/png": "[encoded data removed]",
            "text/plain": [
              "<Figure size 432x288 with 1 Axes>"
            ]
          },
          "metadata": {
            "tags": [],
            "needs_background": "light"
          }
        }
      ]
    },
    {
      "cell_type": "code",
      "metadata": {
        "id": "eGdgU4oY-Nra",
        "colab_type": "code",
        "colab": {
          "base_uri": "https://localhost:8080/",
          "height": 281
        },
        "outputId": "c32f67c4-d625-450f-be6b-ba60295e4a3e"
      },
      "source": [
        "place = np.linspace(0, len(speed), num=len(speed))\n",
        "plt.scatter(place,np.array(speed), s=30, alpha=0.5)\n",
        "plt.title('fancy plot of their coordinates')\n",
        "plt.xlabel('')\n",
        "plt.ylabel('[m/s]')\n",
        "plt.title('hastighed for id 0')\n",
        "plt.show()"
      ],
      "execution_count": 376,
      "outputs": [
        {
          "output_type": "display_data",
          "data": {
            "image/png": "[encoded data removed]",
            "text/plain": [
              "<Figure size 432x288 with 1 Axes>"
            ]
          },
          "metadata": {
            "tags": [],
            "needs_background": "light"
          }
        }
      ]
    },
    {
      "cell_type": "code",
      "metadata": {
        "id": "RuZjE1v-Qgq4",
        "colab_type": "code",
        "colab": {}
      },
      "source": [
        ""
      ],
      "execution_count": 0,
      "outputs": []
    }
  ]
}